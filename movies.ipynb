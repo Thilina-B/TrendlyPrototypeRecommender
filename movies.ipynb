{
 "cells": [
  {
   "cell_type": "code",
   "execution_count": 1,
   "metadata": {},
   "outputs": [],
   "source": [
    "import pandas as pd\n",
    "from sklearn.feature_extraction.text import TfidfVectorizer\n",
    "from sklearn.metrics.pairwise import linear_kernel"
   ]
  },
  {
   "cell_type": "code",
   "execution_count": 15,
   "metadata": {},
   "outputs": [],
   "source": [
    "df = pd.read_csv('news_list.csv',low_memory=False)\n",
    "# Replace NaN with an empty string\n",
    "df['description'] = df['description'].fillna('')"
   ]
  },
  {
   "cell_type": "code",
   "execution_count": 16,
   "metadata": {},
   "outputs": [
    {
     "data": {
      "text/plain": [
       "(8443, 21709)"
      ]
     },
     "execution_count": 16,
     "metadata": {},
     "output_type": "execute_result"
    }
   ],
   "source": [
    "# Create a TfidfVectorizer and Remove stopwords\n",
    "tfidf = TfidfVectorizer(stop_words='english')\n",
    "# Fit and transform the data to a tfidf matrix\n",
    "tfidf_matrix = tfidf.fit_transform(df['description'])\n",
    "# Print the shape of the tfidf_matrix\n",
    "tfidf_matrix.shape"
   ]
  },
  {
   "cell_type": "code",
   "execution_count": 17,
   "metadata": {},
   "outputs": [],
   "source": [
    "# Compute the cosine similarity between each movie description\n",
    "cosine_sim = linear_kernel(tfidf_matrix, tfidf_matrix)"
   ]
  },
  {
   "cell_type": "code",
   "execution_count": 18,
   "metadata": {},
   "outputs": [],
   "source": [
    "indices = pd.Series(df.index, index=df['title']).drop_duplicates()"
   ]
  },
  {
   "cell_type": "code",
   "execution_count": null,
   "metadata": {},
   "outputs": [],
   "source": [
    "def get_recommendations(title, cosine_sim=cosine_sim, num_recommend = 10):\n",
    "    idx = indices[title]\n",
    "# Get the pairwsie similarity scores of all movies with that movie\n",
    "    sim_scores = list(enumerate(cosine_sim[idx]))\n",
    "# Sort the movies based on the similarity scores\n",
    "    sim_scores = sorted(sim_scores, key=lambda x: x[1], reverse=True)\n",
    "# Get the scores of the 10 most similar movies\n",
    "    top_similar = sim_scores[1:num_recommend+1]\n",
    "# Get the movie indices\n",
    "    movie_indices = [i[0] for i in top_similar]\n",
    "# Return the top 10 most similar movies\n",
    "    return df['title'].iloc[movie_indices]"
   ]
  },
  {
   "cell_type": "code",
   "execution_count": 19,
   "metadata": {},
   "outputs": [],
   "source": [
    "def get_recommendations(keyword, cosine_sim=cosine_sim, num_recommend=10):\n",
    "    # Search for movies containing the keyword in their title or description\n",
    "    movie_matches = df[df['title'].str.contains(keyword, case=False) | df['description'].str.contains(keyword, case=False)]\n",
    "    \n",
    "    # If there are no matches, return a message\n",
    "    if movie_matches.empty:\n",
    "        return \"No matches found for the keyword: {}\".format(keyword)\n",
    "\n",
    "    # Get the indices of the matching movies\n",
    "    indices_list = movie_matches.index.tolist()\n",
    "\n",
    "    # Calculate the average similarity scores for the matching movies\n",
    "    avg_sim_scores = cosine_sim[indices_list].mean(axis=0)\n",
    "\n",
    "    # Sort the movies based on the average similarity scores\n",
    "    movie_indices = avg_sim_scores.argsort()[::-1][:num_recommend]\n",
    "\n",
    "    # Return the top recommended movies\n",
    "    return df['title'].iloc[movie_indices]"
   ]
  },
  {
   "cell_type": "code",
   "execution_count": 25,
   "metadata": {},
   "outputs": [
    {
     "data": {
      "text/plain": [
       "7775    6 insider secrets for turning your business id...\n",
       "7331    Explore the 3 most popular spots in New Orlean...\n",
       "6421    13 money management mistakes small business ow...\n",
       "4116    Operating costs: Understanding & reducing them...\n",
       "4512    New yoga spot Big Shoulders Yoga now open in W...\n",
       "7414             Actors and actresses with famous mothers\n",
       "4182     Survey: US business hiring falls to a 7-year low\n",
       "6792    These chains offer the best value in fast food...\n",
       "7752    If you're a business traveler who prefers Marr...\n",
       "4154    The 8 fast-food chains with the cleanest resta...\n",
       "278            The Elite, The Meh, and The Ugly - Rutgers\n",
       "5895             Doner Box brings German fare to Belltown\n",
       "7991    Petra Cafe brings Greek fare to Keystone At Th...\n",
       "2926    Local businesses affected after Kettering DP&L...\n",
       "1316    Eric Tse, 24, just became a billionaire overnight\n",
       "4385     Here's Why the Best Is Yet to Come for Microsoft\n",
       "3840    Till may move back to welterweight, wants to a...\n",
       "8102    Microsoft first quarter 2020 earnings: Azure g...\n",
       "828     Public-school teachers reveal the 7 hardest th...\n",
       "4687    New Italian spot Colino's Cafe & Bakery debuts...\n",
       "Name: title, dtype: object"
      ]
     },
     "execution_count": 25,
     "metadata": {},
     "output_type": "execute_result"
    }
   ],
   "source": [
    "get_recommendations('business', num_recommend = 20)"
   ]
  }
 ],
 "metadata": {
  "kernelspec": {
   "display_name": "Python 3",
   "language": "python",
   "name": "python3"
  },
  "language_info": {
   "codemirror_mode": {
    "name": "ipython",
    "version": 3
   },
   "file_extension": ".py",
   "mimetype": "text/x-python",
   "name": "python",
   "nbconvert_exporter": "python",
   "pygments_lexer": "ipython3",
   "version": "3.10.12"
  }
 },
 "nbformat": 4,
 "nbformat_minor": 2
}
